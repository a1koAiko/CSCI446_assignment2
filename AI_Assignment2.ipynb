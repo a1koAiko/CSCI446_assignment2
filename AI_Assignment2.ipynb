{
  "nbformat": 4,
  "nbformat_minor": 0,
  "metadata": {
    "colab": {
      "name": "AI_Assignment2.ipynb",
      "version": "0.3.2",
      "provenance": [],
      "include_colab_link": true
    },
    "kernelspec": {
      "name": "python3",
      "display_name": "Python 3"
    }
  },
  "cells": [
    {
      "cell_type": "markdown",
      "metadata": {
        "id": "view-in-github",
        "colab_type": "text"
      },
      "source": [
        "<a href=\"https://colab.research.google.com/github/a1koAiko/CSCI446_assignment2/blob/master/AI_Assignment2.ipynb\" target=\"_parent\"><img src=\"https://colab.research.google.com/assets/colab-badge.svg\" alt=\"Open In Colab\"/></a>"
      ]
    },
    {
      "metadata": {
        "id": "3ACtI11s5pE0",
        "colab_type": "code",
        "colab": {}
      },
      "cell_type": "code",
      "source": [
        "from collections import defaultdict\n",
        "from random import randint\n",
        "from json import dumps\n",
        "import pandas as pd\n",
        "import numpy as np\n",
        "from numpy import array, linalg\n",
        "from time import perf_counter\n",
        "from collections import deque as q, OrderedDict as od\n",
        "from queue import PriorityQueue as Q\n",
        "from math import*"
      ],
      "execution_count": 0,
      "outputs": []
    },
    {
      "metadata": {
        "id": "evrObvM46Mii",
        "colab_type": "code",
        "colab": {}
      },
      "cell_type": "code",
      "source": [
        "#euclidean distance -> returns true if the locations are 1 unit away from each other\n",
        "def dist(a,b):\n",
        "    x=array(a)\n",
        "    y=array(b)\n",
        "    return linalg.norm(x-y) < 1.4"
      ],
      "execution_count": 0,
      "outputs": []
    },
    {
      "metadata": {
        "id": "dzaobkAO6Q1K",
        "colab_type": "code",
        "outputId": "96f8c76c-b5f8-4470-9535-17749a53f2de",
        "colab": {
          "base_uri": "https://localhost:8080/",
          "height": 51
        }
      },
      "cell_type": "code",
      "source": [
        "#example dist(a,b)\n",
        "a= (0,0)\n",
        "b= (1,0)\n",
        "c= (1,1)\n",
        "\n",
        "print(f'{a}<->{b} = {dist(a,b)}\\n{a}<->{c} = {dist(a,c)}')"
      ],
      "execution_count": 0,
      "outputs": [
        {
          "output_type": "stream",
          "text": [
            "(0, 0)<->(1, 0) = True\n",
            "(0, 0)<->(1, 1) = False\n"
          ],
          "name": "stdout"
        }
      ]
    },
    {
      "metadata": {
        "id": "9_Y54Sm96mjF",
        "colab_type": "code",
        "colab": {}
      },
      "cell_type": "code",
      "source": [
        "class Agent():\n",
        "    def __init__(self, algorithm,maze):\n",
        "  \n",
        "        self.path=q()\n",
        "        self.pos = None\n",
        "        self.maze = maze\n",
        "        self.solution_path = []\n",
        "        self.search_results = []\n",
        "                        \n",
        "    # scans the maze file for 'P'and '*' returns (row, col)\n",
        "    def get_location_of_(self, item):\n",
        "        for i in self.maze.maze.columns:\n",
        "            if len(np.where(self.maze.maze[i]==item)[0]) != 0 :\n",
        "                j=self.maze.maze.loc[self.maze.maze[i] == item]\n",
        "                self.pos=(j.index.values[0], i)\n",
        "                return j.index.values[0], i\n",
        "\n",
        "    #prints the state of the agent in the maze\n",
        "    def get_state(self):\n",
        "        for i in range(-1,2):\n",
        "            for j in range(-1,2):\n",
        "                print(f'{self.maze.maze.iloc[self.pos[0]+i][self.pos[1]+j]}' , end='')\n",
        "            print()\n",
        "            \n",
        "    #returns a list of  possible actions for the table        \n",
        "    def get_actions(self):\n",
        "        actions = []\n",
        "        for i in range(-1,2):\n",
        "            for j in range(-1,2):\n",
        "                if abs(i+j) ==1  and self.maze.maze.iloc[self.pos[0]+i][self.pos[1]+j] != '%':\n",
        "                    actions.append((self.pos[0]+i, self.pos[1]+j))        \n",
        "                    \n",
        "        return actions\n",
        "    \n",
        "    #runs the functions neccesary to produce maze searching results\n",
        "    def search_maze(self):\n",
        "        print('START: search')\n",
        "        self.search_results, self.solution_path = self.search_alg(self)\n",
        "        print('DONE: search')\n",
        "        print('START: solution')\n",
        "        self.get_solution()\n",
        "        print('DONE: solution')\n",
        "        print('START: save maze')\n",
        "        self.maze.save_maze(self.search_alg)\n",
        "        print('DONE: save maze')\n",
        "        print('START: save solution')\n",
        "        self.maze.print_solution(self.solution_path, self.search_alg) \n",
        "        print('DONE: save solution')\n",
        "        self.get_results()\n",
        "   \n",
        "    #prints out results\n",
        "    def get_results(self):\n",
        "        print(f'Search Algorith: {str(self.search_alg)[10:13]} \\t Maze: {self.maze.name}')\n",
        "        print(f'Steps taken: {len(self.search_results)}\\t Length of solution: {len(self.solution_path)}')\n",
        "        print('---')\n",
        "    \n",
        "    #determines the solution based on the search algortihm. \n",
        "    def get_solution(self):\n",
        "        print('what solution are you getting?')\n",
        "        if self.search_alg == dfs:\n",
        "            print('getting dfs solution')\n",
        "            dfs_solution(self)\n",
        "        elif self.search_alg == bfs:\n",
        "            print('getting bfs solution')\n",
        "            bfs_solution(self)\n",
        "        elif self.search_alg == gbfs:\n",
        "            print('getting gbfs solution')\n",
        "            gbfs_solution(self)"
      ],
      "execution_count": 0,
      "outputs": []
    },
    {
      "metadata": {
        "id": "PoFM96zv6Y-a",
        "colab_type": "code",
        "colab": {}
      },
      "cell_type": "code",
      "source": [
        "def get_path():\n",
        "  "
      ],
      "execution_count": 0,
      "outputs": []
    }
  ]
}