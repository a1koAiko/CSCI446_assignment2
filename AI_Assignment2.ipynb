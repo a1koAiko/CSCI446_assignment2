{
  "nbformat": 4,
  "nbformat_minor": 0,
  "metadata": {
    "colab": {
      "name": "AI_Assignment2.ipynb",
      "version": "0.3.2",
      "provenance": [],
      "collapsed_sections": [],
      "include_colab_link": true
    },
    "kernelspec": {
      "name": "python3",
      "display_name": "Python 3"
    }
  },
  "cells": [
    {
      "cell_type": "markdown",
      "metadata": {
        "id": "view-in-github",
        "colab_type": "text"
      },
      "source": [
        "<a href=\"https://colab.research.google.com/github/a1koAiko/CSCI446_assignment2/blob/master/AI_Assignment2.ipynb\" target=\"_parent\"><img src=\"https://colab.research.google.com/assets/colab-badge.svg\" alt=\"Open In Colab\"/></a>"
      ]
    },
    {
      "metadata": {
        "id": "3ACtI11s5pE0",
        "colab_type": "code",
        "colab": {}
      },
      "cell_type": "code",
      "source": [
        "from collections import defaultdict\n",
        "from random import randint\n",
        "from json import dumps\n",
        "import pandas as pd\n",
        "import numpy as np\n",
        "from numpy import array, linalg\n",
        "from time import perf_counter\n",
        "from collections import deque as q, OrderedDict as od\n",
        "from queue import PriorityQueue as Q\n",
        "from math import*"
      ],
      "execution_count": 0,
      "outputs": []
    },
    {
      "metadata": {
        "id": "evrObvM46Mii",
        "colab_type": "code",
        "colab": {}
      },
      "cell_type": "code",
      "source": [
        "#euclidean distance -> returns true if the locations are 1 unit away from each other\n",
        "def dist(a,b):\n",
        "    x=array(a)\n",
        "    y=array(b)\n",
        "    return linalg.norm(x-y) < 1.4"
      ],
      "execution_count": 0,
      "outputs": []
    },
    {
      "metadata": {
        "id": "dzaobkAO6Q1K",
        "colab_type": "code",
        "outputId": "b8b0c9e9-8c10-4447-cef2-8507460ec062",
        "colab": {
          "base_uri": "https://localhost:8080/",
          "height": 51
        }
      },
      "cell_type": "code",
      "source": [
        "#example dist(a,b)\n",
        "a= (0,0)\n",
        "b= (1,0)\n",
        "c= (1,1)\n",
        "\n",
        "print(f'{a}<->{b} = {dist(a,b)}\\n{a}<->{c} = {dist(a,c)}')"
      ],
      "execution_count": 55,
      "outputs": [
        {
          "output_type": "stream",
          "text": [
            "(0, 0)<->(1, 0) = True\n",
            "(0, 0)<->(1, 1) = False\n"
          ],
          "name": "stdout"
        }
      ]
    },
    {
      "metadata": {
        "id": "SZM1_JFG-KqP",
        "colab_type": "code",
        "colab": {}
      },
      "cell_type": "code",
      "source": [
        "class Maze():\n",
        "    def __init__(self, file_name ):\n",
        "        self.name = file_name.replace('.txt', '')\n",
        "        self.maze = self.load_maze(file_name)\n",
        "        \n",
        "    def _maze(self):\n",
        "        return self.maze\n",
        "    \n",
        "    #saves the search results of the maze to a text file\n",
        "    def save_maze(self, bot):\n",
        "        maze_csv = self.maze.to_csv(index=False, header=False).replace(',','')\n",
        "        with open(f'{self.name} - {str(bot)[10:13]} search results.txt', 'w') as f:\n",
        "            f.writelines(maze_csv) \n",
        "    \n",
        "    #read file and convert text to pandas dataframe\n",
        "    def load_maze(self, file_name):\n",
        "        maze = defaultdict(list)\n",
        "        with open(f'{file_name}') as f:\n",
        "            lines=f.readlines()\n",
        "            for row,line in enumerate(lines):\n",
        "                for col, char in enumerate(line):\n",
        "                     maze[col].append(char) \n",
        "        del maze[list(maze.keys())[-1]]\n",
        "        return pd.DataFrame(maze, dtype=str)\n",
        "    \n",
        "    \n",
        "    #converts the path to the goal into exclamation marks and saves the file\n",
        "    def print_solution(self,path,bot):\n",
        "        for location in path:\n",
        "            #if != color put color?\n",
        "            if  self.maze.iloc[location[0]][location[1]] != 'P' and self.maze.iloc[location[0]][location[1]] != '*':\n",
        "                self.maze.iloc[location[0]][location[1]] = '!'\n",
        "        maze_csv = self.maze.to_csv(index=False, header=False).replace(',','')\n",
        "        with open(f'{self.name} - {str(bot)[10:13]} solution.txt', 'w') as f:\n",
        "            f.writelines(maze_csv) "
      ],
      "execution_count": 0,
      "outputs": []
    },
    {
      "metadata": {
        "id": "9_Y54Sm96mjF",
        "colab_type": "code",
        "colab": {}
      },
      "cell_type": "code",
      "source": [
        "class Agent():\n",
        "    def __init__(self, algorithm,maze):\n",
        "  \n",
        "        self.path=q()\n",
        "        self.pos = None\n",
        "        self.maze = maze\n",
        "        self.solution_path = []\n",
        "        self.search_results = []\n",
        "                        \n",
        "    # scans the maze file for 'P'and '*' returns (row, col)\n",
        "    def get_location_of_(self, item):\n",
        "        for i in self.maze.maze.columns:\n",
        "            if len(np.where(self.maze.maze[i]==item)[0]) != 0 :\n",
        "                j=self.maze.maze.loc[self.maze.maze[i] == item]\n",
        "                self.pos=(j.index.values[0], i)\n",
        "                return j.index.values[0], i\n",
        "\n",
        "    #prints the state of the agent in the maze\n",
        "    def get_state(self):\n",
        "        for i in range(-1,2):\n",
        "            for j in range(-1,2):\n",
        "                print(f'{self.maze.maze.iloc[self.pos[0]+i][self.pos[1]+j]}' , end='')\n",
        "            print()\n",
        "            \n",
        "    #returns a list of  possible actions for the table        \n",
        "    def get_actions(self):\n",
        "        actions = []\n",
        "        for i in range(-1,2):\n",
        "            for j in range(-1,2):\n",
        "                #changed \"%\" (wall) to \"_\" (open space)\n",
        "                if abs(i+j) ==1  and self.maze.maze.iloc[self.pos[0]+i][self.pos[1]+j] != '_':\n",
        "                    actions.append((self.pos[0]+i, self.pos[1]+j))        \n",
        "                    \n",
        "        return actions\n",
        "    \n",
        "    #runs the functions neccesary to produce maze searching results\n",
        "    def search_maze(self):\n",
        "        print('START: search')\n",
        "        self.search_results, self.solution_path = self.search_alg(self)\n",
        "        print('DONE: search')\n",
        "        print('START: solution')\n",
        "        self.get_solution()\n",
        "        print('DONE: solution')\n",
        "        print('START: save maze')\n",
        "        self.maze.save_maze(self.search_alg)\n",
        "        print('DONE: save maze')\n",
        "        print('START: save solution')\n",
        "        self.maze.print_solution(self.solution_path, self.search_alg) \n",
        "        print('DONE: save solution')\n",
        "        self.get_results()\n",
        "   \n",
        "    #prints out results\n",
        "    def get_results(self):\n",
        "        print(f'Search Algorith: {str(self.search_alg)[10:13]} \\t Maze: {self.maze.name}')\n",
        "        print(f'Steps taken: {len(self.search_results)}\\t Length of solution: {len(self.solution_path)}')\n",
        "        print('---')\n",
        "    \n",
        "    #determines the solution based on the search algortihm. \n",
        "    def get_solution(self):\n",
        "        print('what solution are you getting?')\n",
        "        if self.search_alg == dfs:\n",
        "            print('getting dfs solution')\n",
        "            dfs_solution(self)\n",
        "        elif self.search_alg == bfs:\n",
        "            print('getting bfs solution')\n",
        "            bfs_solution(self)\n",
        "        elif self.search_alg == gbfs:\n",
        "            print('getting gbfs solution')\n",
        "            gbfs_solution(self)"
      ],
      "execution_count": 0,
      "outputs": []
    },
    {
      "metadata": {
        "id": "iENG_UhRAE30",
        "colab_type": "code",
        "colab": {}
      },
      "cell_type": "code",
      "source": [
        "m = Maze('5x5maze.txt')\n",
        "agent = Agent(m) #constructor uses an algorithm and a maze"
      ],
      "execution_count": 0,
      "outputs": []
    },
    {
      "metadata": {
        "id": "kKq7-9OqC5m_",
        "colab_type": "code",
        "colab": {
          "base_uri": "https://localhost:8080/",
          "height": 102
        },
        "outputId": "c97b2986-0c2b-467b-857a-f348ca7d8201"
      },
      "cell_type": "code",
      "source": [
        "maze_obj = Maze('5x5maze.txt')\n",
        "print(f'{maze_obj.name}\\n{maze_obj.maze}')"
      ],
      "execution_count": 149,
      "outputs": [
        {
          "output_type": "stream",
          "text": [
            "5x5maze\n",
            "  0  1  2  3  4  5  6  7  8  9  ... 18 19 20 21 22 23 24 25 26 27\n",
            "0  B  _  _  R  O  ,  _  _  _  Y ...  _  R  O  _  G  ,  _  B  G  _\n",
            "\n",
            "[1 rows x 28 columns]\n"
          ],
          "name": "stdout"
        }
      ]
    },
    {
      "metadata": {
        "id": "Au0Ii-9GAeuR",
        "colab_type": "code",
        "colab": {
          "base_uri": "https://localhost:8080/",
          "height": 34
        },
        "outputId": "727dc616-34a5-4daa-ff25-56e7f259e152"
      },
      "cell_type": "code",
      "source": [
        "agent.get_location_of_('B')"
      ],
      "execution_count": 139,
      "outputs": [
        {
          "output_type": "execute_result",
          "data": {
            "text/plain": [
              "(0, 0)"
            ]
          },
          "metadata": {
            "tags": []
          },
          "execution_count": 139
        }
      ]
    },
    {
      "metadata": {
        "id": "mUmfIW-RDVXG",
        "colab_type": "code",
        "colab": {
          "base_uri": "https://localhost:8080/",
          "height": 34
        },
        "outputId": "f03757ba-98c8-4a85-b233-10b4b7ee798b"
      },
      "cell_type": "code",
      "source": [
        "agent.get_location_of_('R')"
      ],
      "execution_count": 132,
      "outputs": [
        {
          "output_type": "execute_result",
          "data": {
            "text/plain": [
              "(0, 3)"
            ]
          },
          "metadata": {
            "tags": []
          },
          "execution_count": 132
        }
      ]
    },
    {
      "metadata": {
        "id": "LI9--W8ZDVM6",
        "colab_type": "code",
        "colab": {
          "base_uri": "https://localhost:8080/",
          "height": 34
        },
        "outputId": "a1883f4d-601c-422b-b5db-dfc8f38f5d8f"
      },
      "cell_type": "code",
      "source": [
        "agent.get_location_of_('O')"
      ],
      "execution_count": 133,
      "outputs": [
        {
          "output_type": "execute_result",
          "data": {
            "text/plain": [
              "(0, 4)"
            ]
          },
          "metadata": {
            "tags": []
          },
          "execution_count": 133
        }
      ]
    },
    {
      "metadata": {
        "id": "xNqbY8GODU9g",
        "colab_type": "code",
        "colab": {
          "base_uri": "https://localhost:8080/",
          "height": 34
        },
        "outputId": "f6ad7dbf-fd73-4269-9696-e3d24027d349"
      },
      "cell_type": "code",
      "source": [
        "agent.get_location_of_('Y')"
      ],
      "execution_count": 134,
      "outputs": [
        {
          "output_type": "execute_result",
          "data": {
            "text/plain": [
              "(0, 9)"
            ]
          },
          "metadata": {
            "tags": []
          },
          "execution_count": 134
        }
      ]
    },
    {
      "metadata": {
        "id": "7PoPtZroDUx1",
        "colab_type": "code",
        "colab": {
          "base_uri": "https://localhost:8080/",
          "height": 34
        },
        "outputId": "91e14e65-a387-479a-c65b-dd6ada6812d5"
      },
      "cell_type": "code",
      "source": [
        "agent.get_location_of_('G')"
      ],
      "execution_count": 135,
      "outputs": [
        {
          "output_type": "execute_result",
          "data": {
            "text/plain": [
              "(0, 22)"
            ]
          },
          "metadata": {
            "tags": []
          },
          "execution_count": 135
        }
      ]
    },
    {
      "metadata": {
        "id": "SsLhEfjhS9gF",
        "colab_type": "code",
        "outputId": "74eb3215-4e65-4baf-aff9-32d8640c2d50",
        "colab": {
          "base_uri": "https://localhost:8080/",
          "height": 289
        }
      },
      "cell_type": "code",
      "source": [
        "class node():\n",
        "  file = open('5x5maze.txt', 'r')\n",
        "  lines = file.readlines()\n",
        "  \n",
        "  def cleanlist(lines):\n",
        "      for y in lines:  # technically don't need because we have create only 1 line now\n",
        "          array = list(y)\n",
        "          for val in array:\n",
        "              if val == (','):\n",
        "                  array.remove(val)\n",
        "      lines = array\n",
        "      maze = []\n",
        "      tempmaze = []\n",
        "      for x in range(0, 25):\n",
        "          tempmaze.append(lines[x])\n",
        "          if (x == 4 or x == 9 or x == 14 or x == 19 or x == 24):  # needs to be changed\n",
        "              print(x)\n",
        "              maze.append(tempmaze)\n",
        "              tempmaze = []\n",
        "      return maze\n",
        "      \n",
        "      \n",
        "  Maze = (cleanlist(lines))  # GLOBAL VARIABLE\n",
        "       \n",
        "  def printmaze(Maze):\n",
        "    length = len(Maze)  # GLOBAL VARIABLE\n",
        "    for x in range(length):\n",
        "        print('\\n')\n",
        "        for y in range(length):\n",
        "            print(Maze[x][y], end=\" \")\n",
        "            #print(Maze[x][y].index('B'))\n",
        " \n",
        "  printmaze(Maze)\n",
        "  \n",
        "                "
      ],
      "execution_count": 151,
      "outputs": [
        {
          "output_type": "stream",
          "text": [
            "4\n",
            "9\n",
            "14\n",
            "19\n",
            "24\n",
            "\n",
            "\n",
            "B _ _ R O \n",
            "\n",
            "_ _ _ Y _ \n",
            "\n",
            "_ _ Y _ _ \n",
            "\n",
            "_ R O _ G \n",
            "\n",
            "_ B G _ _ "
          ],
          "name": "stdout"
        }
      ]
    }
  ]
}